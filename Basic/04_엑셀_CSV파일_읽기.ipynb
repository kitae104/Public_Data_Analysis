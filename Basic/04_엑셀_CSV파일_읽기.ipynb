{
 "cells": [
  {
   "cell_type": "markdown",
   "metadata": {},
   "source": [
    "엑셀 기능 수행 전에 반드시 openpyxl이  설치되 있어야 한다. "
   ]
  },
  {
   "cell_type": "code",
   "execution_count": 6,
   "metadata": {},
   "outputs": [
    {
     "name": "stdout",
     "output_type": "stream",
     "text": [
      "  name  math  eng\n",
      "0  김지훈    50   90\n",
      "1  이유진    60   80\n",
      "2  박동현   100   60\n",
      "3  김민지    40   70\n",
      "  name  hour  score\n",
      "0  김지훈     4     55\n",
      "1  이유진     6     60\n",
      "2  박동현     8     80\n",
      "3  김민지     2     85\n"
     ]
    }
   ],
   "source": [
    "import pandas as pd\n",
    "\n",
    "df = pd.read_excel('./datas/DataFrame.xlsx', sheet_name='Sheet1') # 첫번째 시트 읽기\n",
    "print(df)\n",
    "df2 = pd.read_excel('./datas/DataFrame.xlsx', sheet_name='Sheet2') # 첫번째 시트 읽기\n",
    "print(df2)\n"
   ]
  },
  {
   "cell_type": "code",
   "execution_count": 7,
   "metadata": {},
   "outputs": [
    {
     "name": "stdout",
     "output_type": "stream",
     "text": [
      "    no  nclass  hours  extra  math  eng  science  tot  test\n",
      "0   11       1     17      6    37   70       44  151  Pass\n",
      "1   12       1     30      7    60   80       70  210  Pass\n",
      "2   13       1     19      7    41   71       46  158  Pass\n",
      "3   14       1     14      4    34   67       40  141  Fail\n",
      "4   15       1     27      4    82   78       73  233  Pass\n",
      "5   21       2     13      4    34   67       38  139  Fail\n",
      "6   22       2     35      9    84   83       85  252  Pass\n",
      "7   23       2     21      7    45   70       49  164  Pass\n",
      "8   24       2     16      8    34   69       42  145  Fail\n",
      "9   25       2     31      8    43   69       45  157  Fail\n",
      "10  31       3     10      1    35   65       36  136  Fail\n",
      "11  32       3     15      8    35   68       41  144  Fail\n",
      "12  33       3     23      5    46   71       55  172  Pass\n",
      "13  34       3     11      5    34   66       37  137  Fail\n",
      "14  35       3     29      7    58   80       68  206  Pass\n",
      "15  41       4     25      5    49   75       59  183  Pass\n",
      "16  42       4      9      2    33   67       35  135  Fail\n",
      "17  43       4     24      6    48   74       58  180  Pass\n",
      "18  44       4     33      8    81   80       80  241  Pass\n",
      "19  45       4     38      8    83   78       97  258  Pass\n",
      "20  51       5     40      9    85   86       90  261  Pass\n",
      "21  52       5     39     10    87   85       87  259  Pass\n",
      "22  53       5     32      7    76   82       78  236  Pass\n",
      "23  54       5     27      5    51   78       60  189  Pass\n",
      "24  55       5     32      6    44   67       50  161  Fail\n"
     ]
    }
   ],
   "source": [
    "df_csv = pd.read_csv('./datas/exam.csv')\n",
    "print(df_csv)\n",
    "\n",
    "df_csv.to_csv('./datas/exam_ex1.csv', index=False) # index=False로 하면 인덱스가 저장되지 않음"
   ]
  }
 ],
 "metadata": {
  "kernelspec": {
   "display_name": "Python 3",
   "language": "python",
   "name": "python3"
  },
  "language_info": {
   "codemirror_mode": {
    "name": "ipython",
    "version": 3
   },
   "file_extension": ".py",
   "mimetype": "text/x-python",
   "name": "python",
   "nbconvert_exporter": "python",
   "pygments_lexer": "ipython3",
   "version": "3.11.9"
  }
 },
 "nbformat": 4,
 "nbformat_minor": 2
}
