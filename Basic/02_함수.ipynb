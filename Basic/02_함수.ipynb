{
 "cells": [
  {
   "cell_type": "markdown",
   "metadata": {},
   "source": [
    "데이터분석을 위한 파이썬 \n",
    "\n",
    "함수(function) : 특정 기능을 수행하기 위한 코드 \n",
    "내장함수 \n",
    "내장모듈 "
   ]
  },
  {
   "cell_type": "code",
   "execution_count": 1,
   "metadata": {},
   "outputs": [
    {
     "name": "stdout",
     "output_type": "stream",
     "text": [
      "310\n",
      "295\n",
      "90\n",
      "80\n"
     ]
    }
   ],
   "source": [
    "math = [85, 90, 65, 70]\n",
    "eng = [80, 75, 60, 80]\n",
    "\n",
    "print(sum(math))\n",
    "print(sum(eng))\n",
    "\n",
    "print(max(math))\n",
    "print(max(eng))"
   ]
  }
 ],
 "metadata": {
  "kernelspec": {
   "display_name": "Python 3",
   "language": "python",
   "name": "python3"
  },
  "language_info": {
   "codemirror_mode": {
    "name": "ipython",
    "version": 3
   },
   "file_extension": ".py",
   "mimetype": "text/x-python",
   "name": "python",
   "nbconvert_exporter": "python",
   "pygments_lexer": "ipython3",
   "version": "3.11.9"
  }
 },
 "nbformat": 4,
 "nbformat_minor": 2
}
