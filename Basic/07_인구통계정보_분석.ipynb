{
 "cells": [
  {
   "cell_type": "markdown",
   "metadata": {},
   "source": [
    "미국 동북중부 437개 지역의 인고통계 정보 분석하기 \n",
    "1. 데이터 특징 파악하기 \n",
    "2. poptotal(전체인구) 변수를 total로 popasian(아시아 인구)를 asian으로 수정\n",
    "3. total, asian 변수를 이용해 '전체 인구 대비 아시아 인구 백분률\" 파생 변수를 추가하고 히스토그램을 만들어 분포 살펴보기 \n",
    "4. 아시아 인구 백분율 전체 평균을 구하고 평균을 초과하면 'large' 그 외에는 'small'을 부여한 파생 변수를 만들기 \n",
    "5. 'large'와 'small'에 해당하는 지역이 얼마나 많은지 빈도표와 빈도 막대 그래프 만들기"
   ]
  },
  {
   "cell_type": "code",
   "execution_count": null,
   "metadata": {},
   "outputs": [],
   "source": []
  }
 ],
 "metadata": {
  "language_info": {
   "name": "python"
  }
 },
 "nbformat": 4,
 "nbformat_minor": 2
}
