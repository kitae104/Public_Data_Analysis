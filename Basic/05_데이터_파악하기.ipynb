{
 "cells": [
  {
   "cell_type": "code",
   "metadata": {
    "ExecuteTime": {
     "end_time": "2024-06-19T18:07:38.343335Z",
     "start_time": "2024-06-19T18:07:37.930740Z"
    }
   },
   "source": [
    "import pandas as pd\n",
    "df = pd.read_csv('./datas/exam.csv', header=0)\n",
    "print(df.head())  # 처음 5개의 행을 출력\n",
    "\n",
    "print(df.head(10))  # 처음 10개의 행을 출력"
   ],
   "outputs": [
    {
     "name": "stdout",
     "output_type": "stream",
     "text": [
      "   no  nclass  hours  extra  math  eng  science  tot  test\n",
      "0  11       1     17      6    37   70       44  151  Pass\n",
      "1  12       1     30      7    60   80       70  210  Pass\n",
      "2  13       1     19      7    41   71       46  158  Pass\n",
      "3  14       1     14      4    34   67       40  141  Fail\n",
      "4  15       1     27      4    82   78       73  233  Pass\n",
      "   no  nclass  hours  extra  math  eng  science  tot  test\n",
      "0  11       1     17      6    37   70       44  151  Pass\n",
      "1  12       1     30      7    60   80       70  210  Pass\n",
      "2  13       1     19      7    41   71       46  158  Pass\n",
      "3  14       1     14      4    34   67       40  141  Fail\n",
      "4  15       1     27      4    82   78       73  233  Pass\n",
      "5  21       2     13      4    34   67       38  139  Fail\n",
      "6  22       2     35      9    84   83       85  252  Pass\n",
      "7  23       2     21      7    45   70       49  164  Pass\n",
      "8  24       2     16      8    34   69       42  145  Fail\n",
      "9  25       2     31      8    43   69       45  157  Fail\n"
     ]
    }
   ],
   "execution_count": 1
  },
  {
   "cell_type": "code",
   "metadata": {
    "ExecuteTime": {
     "end_time": "2024-06-19T18:07:43.277556Z",
     "start_time": "2024-06-19T18:07:43.271529Z"
    }
   },
   "source": [
    "print(df.tail())  # 마지막 5개의 행을 출력"
   ],
   "outputs": [
    {
     "name": "stdout",
     "output_type": "stream",
     "text": [
      "    no  nclass  hours  extra  math  eng  science  tot  test\n",
      "20  51       5     40      9    85   86       90  261  Pass\n",
      "21  52       5     39     10    87   85       87  259  Pass\n",
      "22  53       5     32      7    76   82       78  236  Pass\n",
      "23  54       5     27      5    51   78       60  189  Pass\n",
      "24  55       5     32      6    44   67       50  161  Fail\n"
     ]
    }
   ],
   "execution_count": 2
  },
  {
   "cell_type": "code",
   "metadata": {
    "ExecuteTime": {
     "end_time": "2024-06-19T18:07:51.588091Z",
     "start_time": "2024-06-19T18:07:51.579278Z"
    }
   },
   "source": [
    "print(df.sample())  # 랜덤하게 1개의 행을 출력\n",
    "\n",
    "print(df.sample(3))  # 랜덤하게 3개의 행을 출력"
   ],
   "outputs": [
    {
     "name": "stdout",
     "output_type": "stream",
     "text": [
      "    no  nclass  hours  extra  math  eng  science  tot  test\n",
      "15  41       4     25      5    49   75       59  183  Pass\n",
      "    no  nclass  hours  extra  math  eng  science  tot  test\n",
      "1   12       1     30      7    60   80       70  210  Pass\n",
      "11  32       3     15      8    35   68       41  144  Fail\n",
      "13  34       3     11      5    34   66       37  137  Fail\n"
     ]
    }
   ],
   "execution_count": 3
  },
  {
   "cell_type": "code",
   "metadata": {
    "ExecuteTime": {
     "end_time": "2024-06-19T18:07:59.887402Z",
     "start_time": "2024-06-19T18:07:59.882796Z"
    }
   },
   "source": [
    "print(df.shape)  # 행과 열의 개수를 출력"
   ],
   "outputs": [
    {
     "name": "stdout",
     "output_type": "stream",
     "text": [
      "(25, 9)\n"
     ]
    }
   ],
   "execution_count": 4
  },
  {
   "cell_type": "code",
   "metadata": {
    "ExecuteTime": {
     "end_time": "2024-06-19T18:08:03.961011Z",
     "start_time": "2024-06-19T18:08:03.951015Z"
    }
   },
   "source": [
    "print(df.info()) # 데이터프레임의 정보를 출력"
   ],
   "outputs": [
    {
     "name": "stdout",
     "output_type": "stream",
     "text": [
      "<class 'pandas.core.frame.DataFrame'>\n",
      "RangeIndex: 25 entries, 0 to 24\n",
      "Data columns (total 9 columns):\n",
      " #   Column   Non-Null Count  Dtype \n",
      "---  ------   --------------  ----- \n",
      " 0   no       25 non-null     int64 \n",
      " 1   nclass   25 non-null     int64 \n",
      " 2   hours    25 non-null     int64 \n",
      " 3   extra    25 non-null     int64 \n",
      " 4   math     25 non-null     int64 \n",
      " 5   eng      25 non-null     int64 \n",
      " 6   science  25 non-null     int64 \n",
      " 7   tot      25 non-null     int64 \n",
      " 8   test     25 non-null     object\n",
      "dtypes: int64(8), object(1)\n",
      "memory usage: 1.9+ KB\n",
      "None\n"
     ]
    }
   ],
   "execution_count": 5
  },
  {
   "cell_type": "code",
   "metadata": {
    "ExecuteTime": {
     "end_time": "2024-06-19T18:08:09.450701Z",
     "start_time": "2024-06-19T18:08:09.426702Z"
    }
   },
   "source": [
    "print(df.describe())  # 데이터프레임의 통계 정보를 출력"
   ],
   "outputs": [
    {
     "name": "stdout",
     "output_type": "stream",
     "text": [
      "              no     nclass      hours      extra       math        eng  \\\n",
      "count  25.000000  25.000000  25.000000  25.000000  25.000000  25.000000   \n",
      "mean   33.000000   3.000000  24.400000   6.240000  53.560000  73.840000   \n",
      "std    14.505746   1.443376   9.513149   2.184796  19.887349   6.593431   \n",
      "min    11.000000   1.000000   9.000000   1.000000  33.000000  65.000000   \n",
      "25%    22.000000   2.000000  16.000000   5.000000  35.000000  68.000000   \n",
      "50%    33.000000   3.000000  25.000000   7.000000  46.000000  71.000000   \n",
      "75%    44.000000   4.000000  32.000000   8.000000  76.000000  80.000000   \n",
      "max    55.000000   5.000000  40.000000  10.000000  87.000000  86.000000   \n",
      "\n",
      "         science         tot  \n",
      "count  25.000000   25.000000  \n",
      "mean   58.520000  185.920000  \n",
      "std    19.205294   44.997148  \n",
      "min    35.000000  135.000000  \n",
      "25%    42.000000  145.000000  \n",
      "50%    55.000000  172.000000  \n",
      "75%    73.000000  233.000000  \n",
      "max    97.000000  261.000000  \n"
     ]
    }
   ],
   "execution_count": 6
  },
  {
   "cell_type": "code",
   "metadata": {
    "ExecuteTime": {
     "end_time": "2024-06-19T18:08:15.024527Z",
     "start_time": "2024-06-19T18:08:15.004582Z"
    }
   },
   "source": [
    "print(df.describe(include='all'))  # 데이터프레임의 통계 정보를 출력"
   ],
   "outputs": [
    {
     "name": "stdout",
     "output_type": "stream",
     "text": [
      "               no     nclass      hours      extra       math        eng  \\\n",
      "count   25.000000  25.000000  25.000000  25.000000  25.000000  25.000000   \n",
      "unique        NaN        NaN        NaN        NaN        NaN        NaN   \n",
      "top           NaN        NaN        NaN        NaN        NaN        NaN   \n",
      "freq          NaN        NaN        NaN        NaN        NaN        NaN   \n",
      "mean    33.000000   3.000000  24.400000   6.240000  53.560000  73.840000   \n",
      "std     14.505746   1.443376   9.513149   2.184796  19.887349   6.593431   \n",
      "min     11.000000   1.000000   9.000000   1.000000  33.000000  65.000000   \n",
      "25%     22.000000   2.000000  16.000000   5.000000  35.000000  68.000000   \n",
      "50%     33.000000   3.000000  25.000000   7.000000  46.000000  71.000000   \n",
      "75%     44.000000   4.000000  32.000000   8.000000  76.000000  80.000000   \n",
      "max     55.000000   5.000000  40.000000  10.000000  87.000000  86.000000   \n",
      "\n",
      "          science         tot  test  \n",
      "count   25.000000   25.000000    25  \n",
      "unique        NaN         NaN     2  \n",
      "top           NaN         NaN  Pass  \n",
      "freq          NaN         NaN    16  \n",
      "mean    58.520000  185.920000   NaN  \n",
      "std     19.205294   44.997148   NaN  \n",
      "min     35.000000  135.000000   NaN  \n",
      "25%     42.000000  145.000000   NaN  \n",
      "50%     55.000000  172.000000   NaN  \n",
      "75%     73.000000  233.000000   NaN  \n",
      "max     97.000000  261.000000   NaN  \n"
     ]
    }
   ],
   "execution_count": 7
  }
 ],
 "metadata": {
  "kernelspec": {
   "display_name": "Python 3",
   "language": "python",
   "name": "python3"
  },
  "language_info": {
   "codemirror_mode": {
    "name": "ipython",
    "version": 3
   },
   "file_extension": ".py",
   "mimetype": "text/x-python",
   "name": "python",
   "nbconvert_exporter": "python",
   "pygments_lexer": "ipython3",
   "version": "3.11.9"
  }
 },
 "nbformat": 4,
 "nbformat_minor": 2
}
