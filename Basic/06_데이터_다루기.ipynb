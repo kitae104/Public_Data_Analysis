{
 "cells": [
  {
   "cell_type": "code",
   "execution_count": 1,
   "metadata": {},
   "outputs": [
    {
     "name": "stdout",
     "output_type": "stream",
     "text": [
      "  manufacturer model  displ  year  cyl       trans drv  cty  hwy fl category\n",
      "0         audi    a4    1.8  1999    4    auto(l5)   f   18   29  p  compact\n",
      "1         audi    a4    1.8  1999    4  manual(m5)   f   21   29  p  compact\n",
      "2         audi    a4    2.0  2008    4  manual(m6)   f   20   31  p  compact\n",
      "3         audi    a4    2.0  2008    4    auto(av)   f   21   30  p  compact\n",
      "4         audi    a4    2.8  1999    6    auto(l5)   f   16   26  p  compact\n"
     ]
    }
   ],
   "source": [
    "import pandas as pd\n",
    "\n",
    "df = pd.read_csv('./datas/mpg.csv', header=0)       # CSV 파일을 읽어서 DataFrame 객체로 변환, 첫 번째 행을 열 이름으로 사용\n",
    "print(df.head())                            # DataFrame 객체의 처음 5개 행 출력"
   ]
  },
  {
   "cell_type": "code",
   "execution_count": 2,
   "metadata": {},
   "outputs": [
    {
     "name": "stdout",
     "output_type": "stream",
     "text": [
      "  manufacturer model  displ  year  cyl       trans drv  cty  hwy fl category\n",
      "0         audi    a4    1.8  1999    4    auto(l5)   f   18   29  p  compact\n",
      "1         audi    a4    1.8  1999    4  manual(m5)   f   21   29  p  compact\n",
      "2         audi    a4    2.0  2008    4  manual(m6)   f   20   31  p  compact\n",
      "3         audi    a4    2.0  2008    4    auto(av)   f   21   30  p  compact\n",
      "4         audi    a4    2.8  1999    6    auto(l5)   f   16   26  p  compact\n"
     ]
    }
   ],
   "source": [
    "df_copy = df.copy()     # DataFrame 객체 복사\n",
    "print(df_copy.head())   # DataFrame 객체의 처음 5개 행 출력"
   ]
  },
  {
   "cell_type": "code",
   "execution_count": 4,
   "metadata": {},
   "outputs": [
    {
     "name": "stdout",
     "output_type": "stream",
     "text": [
      "  manufacturer model  displ  year  cyl       trans drv  city  highway fl  \\\n",
      "0         audi    a4    1.8  1999    4    auto(l5)   f    18       29  p   \n",
      "1         audi    a4    1.8  1999    4  manual(m5)   f    21       29  p   \n",
      "2         audi    a4    2.0  2008    4  manual(m6)   f    20       31  p   \n",
      "3         audi    a4    2.0  2008    4    auto(av)   f    21       30  p   \n",
      "4         audi    a4    2.8  1999    6    auto(l5)   f    16       26  p   \n",
      "\n",
      "  category  \n",
      "0  compact  \n",
      "1  compact  \n",
      "2  compact  \n",
      "3  compact  \n",
      "4  compact  \n"
     ]
    }
   ],
   "source": [
    "df_copy.rename(columns={'cty': 'city'}, inplace=True)    # 열 이름 변경\n",
    "df_copy.rename(columns={'hwy': 'highway'}, inplace=True)    # 열 이름 변경\n",
    "print(df_copy.head())   # DataFrame 객체의 처음 5개 행 출력"
   ]
  },
  {
   "cell_type": "code",
   "execution_count": 5,
   "metadata": {},
   "outputs": [
    {
     "name": "stdout",
     "output_type": "stream",
     "text": [
      "  manufacturer model  displ  year  cyl       trans drv  city  highway fl  \\\n",
      "0         audi    a4    1.8  1999    4    auto(l5)   f    18       29  p   \n",
      "1         audi    a4    1.8  1999    4  manual(m5)   f    21       29  p   \n",
      "2         audi    a4    2.0  2008    4  manual(m6)   f    20       31  p   \n",
      "3         audi    a4    2.0  2008    4    auto(av)   f    21       30  p   \n",
      "4         audi    a4    2.8  1999    6    auto(l5)   f    16       26  p   \n",
      "\n",
      "  category   avg  \n",
      "0  compact  23.5  \n",
      "1  compact  25.0  \n",
      "2  compact  25.5  \n",
      "3  compact  25.5  \n",
      "4  compact  21.0  \n"
     ]
    }
   ],
   "source": [
    "df_copy['avg'] = (df_copy['city'] + df_copy['highway']) /2    # 새로운 열 추가\n",
    "print(df_copy.head())   # DataFrame 객체의 처음 5개 행 출력"
   ]
  },
  {
   "cell_type": "code",
   "execution_count": 6,
   "metadata": {},
   "outputs": [],
   "source": [
    "df_copy.to_csv('./datas/mpg_copy.csv', index=False)    # DataFrame 객체를 CSV 파일로 저장"
   ]
  },
  {
   "cell_type": "markdown",
   "metadata": {},
   "source": [
    "연비 평균을 기준으로 합격 여부 판정 및 통계 구하기\n",
    "- 연비 평균 구하기(도시연비, 고속도록 연비)\n",
    "- 합격 판정 컬럼 생성\n",
    "    - 평균값을 기준으로 이상이면 pass, 아니면 fail 값을 할당 \n",
    "    - numpy.where()\n",
    "- 합격 빈도표 생성(df.value_counts())\n",
    "- 시각화(막대 그래프 - plt.bar())"
   ]
  },
  {
   "cell_type": "code",
   "execution_count": 7,
   "metadata": {},
   "outputs": [
    {
     "name": "stdout",
     "output_type": "stream",
     "text": [
      "  manufacturer model  displ  year  cyl       trans drv  cty  hwy fl category\n",
      "0         audi    a4    1.8  1999    4    auto(l5)   f   18   29  p  compact\n",
      "1         audi    a4    1.8  1999    4  manual(m5)   f   21   29  p  compact\n",
      "2         audi    a4    2.0  2008    4  manual(m6)   f   20   31  p  compact\n",
      "3         audi    a4    2.0  2008    4    auto(av)   f   21   30  p  compact\n",
      "4         audi    a4    2.8  1999    6    auto(l5)   f   16   26  p  compact\n"
     ]
    }
   ],
   "source": [
    "import pandas as pd \n",
    "\n",
    "df = pd.read_csv('./datas/mpg.csv', header=0)       # CSV 파일을 읽어서 DataFrame 객체로 변환, 첫 번째 행을 열 이름으로 사용\n",
    "print(df.head())                            # DataFrame 객체의 처음 5개 행 출력"
   ]
  },
  {
   "cell_type": "code",
   "execution_count": 9,
   "metadata": {},
   "outputs": [
    {
     "name": "stdout",
     "output_type": "stream",
     "text": [
      "            displ         year         cyl         cty         hwy         avg\n",
      "count  234.000000   234.000000  234.000000  234.000000  234.000000  234.000000\n",
      "mean     3.471795  2003.500000    5.888889   16.858974   23.440171   20.149573\n",
      "std      1.291959     4.509646    1.611534    4.255946    5.954643    5.050290\n",
      "min      1.600000  1999.000000    4.000000    9.000000   12.000000   10.500000\n",
      "25%      2.400000  1999.000000    4.000000   14.000000   18.000000   15.500000\n",
      "50%      3.300000  2003.500000    6.000000   17.000000   24.000000   20.500000\n",
      "75%      4.600000  2008.000000    8.000000   19.000000   27.000000   23.500000\n",
      "max      7.000000  2008.000000    8.000000   35.000000   44.000000   39.500000\n"
     ]
    }
   ],
   "source": [
    "df['avg'] = (df['cty'] + df['hwy']) / 2    # 새로운 열 추가\n",
    "print(df.describe())    # DataFrame 객체의 요약 통계 정보 출력"
   ]
  },
  {
   "cell_type": "code",
   "execution_count": 10,
   "metadata": {},
   "outputs": [
    {
     "name": "stdout",
     "output_type": "stream",
     "text": [
      "  manufacturer model  displ  year  cyl       trans drv  cty  hwy fl category  \\\n",
      "0         audi    a4    1.8  1999    4    auto(l5)   f   18   29  p  compact   \n",
      "1         audi    a4    1.8  1999    4  manual(m5)   f   21   29  p  compact   \n",
      "2         audi    a4    2.0  2008    4  manual(m6)   f   20   31  p  compact   \n",
      "3         audi    a4    2.0  2008    4    auto(av)   f   21   30  p  compact   \n",
      "4         audi    a4    2.8  1999    6    auto(l5)   f   16   26  p  compact   \n",
      "\n",
      "    avg  test  \n",
      "0  23.5  pass  \n",
      "1  25.0  pass  \n",
      "2  25.5  pass  \n",
      "3  25.5  pass  \n",
      "4  21.0  pass  \n"
     ]
    }
   ],
   "source": [
    "import numpy as np\n",
    "df['test'] = np.where(df['avg'] >= 20, 'pass', 'fail')    # 조건에 따라 새로운 열 추가\n",
    "print(df.head())    # DataFrame 객체의 처음 5개 행 출력"
   ]
  },
  {
   "cell_type": "code",
   "execution_count": 12,
   "metadata": {},
   "outputs": [
    {
     "name": "stdout",
     "output_type": "stream",
     "text": [
      "test\n",
      "pass    128\n",
      "fail    106\n",
      "Name: count, dtype: int64\n",
      "test\n",
      "pass    128\n",
      "fail    106\n",
      "Name: count, dtype: int64\n"
     ]
    }
   ],
   "source": [
    "print(df['test'].value_counts())    # 열의 고유값 개수 출력\n",
    "count_test = df['test'].value_counts()\n",
    "print(count_test)    # pass 횟수 출력    "
   ]
  },
  {
   "cell_type": "code",
   "execution_count": 14,
   "metadata": {},
   "outputs": [
    {
     "data": {
      "text/plain": [
       "<Axes: xlabel='test'>"
      ]
     },
     "execution_count": 14,
     "metadata": {},
     "output_type": "execute_result"
    },
    {
     "data": {
      "image/png": "[encoded data removed]",
      "text/plain": [
       "<Figure size 640x480 with 1 Axes>"
      ]
     },
     "metadata": {},
     "output_type": "display_data"
    }
   ],
   "source": [
    "count_test.plot(kind='bar', rot=0)    # 막대 그래프 출력\n"
   ]
  },
  {
   "cell_type": "markdown",
   "metadata": {},
   "source": [
    "연비 평균을 기준으로 자동차 연비 등급 표시(A, B, C)\n",
    "- 연비 평균 구하기 \n",
    "- 연비 등급 컬럼 생성(grade)\n",
    "    - 평균값을 기준으로 자동차 연비 등급\n",
    "    - 30이상 A, 20이상 B, 나머지 C\n",
    "    - numpy.where(조건, 참일 때, 거짓일 때)\n",
    "- 합격 빈도표 생성 \n",
    "- 시각화"
   ]
  },
  {
   "cell_type": "code",
   "execution_count": 18,
   "metadata": {},
   "outputs": [
    {
     "name": "stdout",
     "output_type": "stream",
     "text": [
      "grade\n",
      "B    118\n",
      "C    106\n",
      "A     10\n",
      "Name: count, dtype: int64\n"
     ]
    },
    {
     "data": {
      "text/plain": [
       "<Axes: xlabel='grade'>"
      ]
     },
     "execution_count": 18,
     "metadata": {},
     "output_type": "execute_result"
    },
    {
     "data": {
      "image/png": "[encoded data removed]",
      "text/plain": [
       "<Figure size 640x480 with 1 Axes>"
      ]
     },
     "metadata": {},
     "output_type": "display_data"
    }
   ],
   "source": [
    "import pandas as pd \n",
    "import numpy as np\n",
    "\n",
    "df = pd.read_csv('./datas/mpg.csv', header=0)       # CSV 파일을 읽어서 DataFrame 객체로 변환, 첫 번째 행을 열 이름으로 사용\n",
    "df['avg'] = (df['cty'] + df['hwy']) / 2    # 새로운 열 추가\n",
    "df['grade'] = np.where(df['avg'] >= 30, 'A', np.where(df['avg'] >= 20, \"B\", \"C\"))    # 조건에 따라 새로운 열 추가\n",
    "print(df['grade'].value_counts())    # 열의 고유값 개수 출력\n",
    "count_grade = df['grade'].value_counts()    # 열의 고유값 개수를 변수에 저장\n",
    "count_grade = count_grade.sort_index()    # 인덱스를 기준으로 정렬\n",
    "count_grade.plot(kind='bar', rot=0)    # 막대 그래프 출력"
   ]
  }
 ],
 "metadata": {
  "kernelspec": {
   "display_name": "Python 3",
   "language": "python",
   "name": "python3"
  },
  "language_info": {
   "codemirror_mode": {
    "name": "ipython",
    "version": 3
   },
   "file_extension": ".py",
   "mimetype": "text/x-python",
   "name": "python",
   "nbconvert_exporter": "python",
   "pygments_lexer": "ipython3",
   "version": "3.11.6"
  }
 },
 "nbformat": 4,
 "nbformat_minor": 2
}
