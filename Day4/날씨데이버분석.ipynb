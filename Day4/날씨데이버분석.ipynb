{
 "cells": [
  {
   "cell_type": "markdown",
   "metadata": {},
   "source": [
    "- Open Weather Map 사이트 \n",
    "- API 발급 (사이트에서 발급)\n",
    "\n",
    "학습 내용 \n",
    "1. requests 모듈은 HTTP 통신이 필요한 프로그램을 작성할 때 가장 많이 사용되는 라이브러리이다.\n",
    "2. requests 모듈은 api를 호출할 때 유용하게 사용할 수 있다.\n",
    "3. tkinter 모듈은 GUI에 대한 표준 Python 인터페이스이며 window 창을 생성할 수 있고 window 창에서 다양한 버튼, 레이블, 엔트리(입력창) 등을 생성 및 배치할 수 있다."
   ]
  },
  {
   "cell_type": "markdown",
   "metadata": {},
   "source": [
    "- 도시를 입력 받은 후 정보를 가져온다."
   ]
  },
  {
   "cell_type": "code",
   "execution_count": 2,
   "metadata": {},
   "outputs": [
    {
     "name": "stdout",
     "output_type": "stream",
     "text": [
      "{'coord': {'lon': 126.4161, 'lat': 37.45}, 'weather': [{'id': 800, 'main': 'Clear', 'description': '맑음', 'icon': '01n'}], 'base': 'stations', 'main': {'temp': 16.93, 'feels_like': 16.82, 'temp_min': 16.93, 'temp_max': 16.93, 'pressure': 1015, 'humidity': 82}, 'visibility': 10000, 'wind': {'speed': 0.51, 'deg': 300}, 'clouds': {'all': 0}, 'dt': 1716127266, 'sys': {'type': 1, 'id': 8093, 'country': 'KR', 'sunrise': 1716063739, 'sunset': 1716115173}, 'timezone': 32400, 'id': 1843561, 'name': 'Incheon', 'cod': 200}\n"
     ]
    }
   ],
   "source": [
    "import requests\n",
    "\n",
    "city = 'Incheon'   #input('도시 입력 : ')\n",
    "\n",
    "API_KEY = '사용자 개인 API KEY 입력'\n",
    "\n",
    "weather_url = f'https://api.openweathermap.org/data/2.5/weather?q='+city+'&APPID=' + API_KEY + '&units=metric&lang=kr'\n",
    "res = requests.get(weather_url)\n",
    "data = res.json()\n",
    "print(data)"
   ]
  },
  {
   "cell_type": "markdown",
   "metadata": {},
   "source": [
    "- 특정 정보만 추출하기 \n",
    "- 현재 데이터가 딕셔너리 형태로 들어 있기 때문에 필요한 부분을 key 값을 이용해서 추출해야 함."
   ]
  },
  {
   "cell_type": "code",
   "execution_count": 4,
   "metadata": {},
   "outputs": [
    {
     "name": "stdout",
     "output_type": "stream",
     "text": [
      "{'coord': {'lon': 126.4161, 'lat': 37.45}, 'weather': [{'id': 800, 'main': 'Clear', 'description': '맑음', 'icon': '01n'}], 'base': 'stations', 'main': {'temp': 16.93, 'feels_like': 16.82, 'temp_min': 16.93, 'temp_max': 16.93, 'pressure': 1015, 'humidity': 82}, 'visibility': 10000, 'wind': {'speed': 0.51, 'deg': 300}, 'clouds': {'all': 0}, 'dt': 1716127472, 'sys': {'type': 1, 'id': 8093, 'country': 'KR', 'sunrise': 1716063739, 'sunset': 1716115173}, 'timezone': 32400, 'id': 1843561, 'name': 'Incheon', 'cod': 200}\n",
      "16.93\n",
      "맑음\n"
     ]
    }
   ],
   "source": [
    "import requests\n",
    "\n",
    "city = 'Incheon'   #input('도시 입력 : ')\n",
    "\n",
    "API_KEY = '사용자 개인 API'\n",
    "\n",
    "weather_url = f'https://api.openweathermap.org/data/2.5/weather?q='+city+'&APPID=' + API_KEY + '&units=metric&lang=kr'\n",
    "res = requests.get(weather_url)\n",
    "data = res.json()\n",
    "print(data)\n",
    "\n",
    "temp = data['main']['temp']\n",
    "weather = data['weather'][0]['description']\n",
    "print(temp)\n",
    "print(weather)"
   ]
  }
 ],
 "metadata": {
  "kernelspec": {
   "display_name": "Python 3",
   "language": "python",
   "name": "python3"
  },
  "language_info": {
   "codemirror_mode": {
    "name": "ipython",
    "version": 3
   },
   "file_extension": ".py",
   "mimetype": "text/x-python",
   "name": "python",
   "nbconvert_exporter": "python",
   "pygments_lexer": "ipython3",
   "version": "3.11.6"
  }
 },
 "nbformat": 4,
 "nbformat_minor": 2
}
