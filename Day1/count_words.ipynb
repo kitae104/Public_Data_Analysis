{
 "cells": [
  {
   "cell_type": "markdown",
   "metadata": {},
   "source": [
    "- 소설 구하기 : https://ko.wikisource.org/wiki/%EB%B9%A8%EA%B0%84%EB%A8%B8%EB%A6%AC_%EC%95%A4/%EC%A0%9C_1%EC%9E%A5\n",
    "- 레이첼 마릴라 커스버트"
   ]
  },
  {
   "cell_type": "code",
   "execution_count": 5,
   "metadata": {},
   "outputs": [
    {
     "name": "stdout",
     "output_type": "stream",
     "text": [
      "레이첼 : 16\n",
      "마릴라 : 8\n",
      "커스버트 : 7\n",
      "[16, 8, 7]\n"
     ]
    }
   ],
   "source": [
    "a = open(\"red_hair.txt\", \"r\", encoding=\"utf-8\")\n",
    "read = a.read()\n",
    "word = input(\"원하는 단어 검색 : \").split()\n",
    "count = []\n",
    "for i in word:\n",
    "    cnt = read.count(i)\n",
    "    print(f\"{i} : {cnt}\")\n",
    "    count.append(cnt)\n",
    "a.close()\n",
    "\n",
    "print(count)"
   ]
  },
  {
   "cell_type": "code",
   "execution_count": null,
   "metadata": {},
   "outputs": [],
   "source": [
    "import matplotlib.pyplot as plt\n"
   ]
  }
 ],
 "metadata": {
  "kernelspec": {
   "display_name": "Python 3",
   "language": "python",
   "name": "python3"
  },
  "language_info": {
   "codemirror_mode": {
    "name": "ipython",
    "version": 3
   },
   "file_extension": ".py",
   "mimetype": "text/x-python",
   "name": "python",
   "nbconvert_exporter": "python",
   "pygments_lexer": "ipython3",
   "version": "3.11.6"
  }
 },
 "nbformat": 4,
 "nbformat_minor": 2
}
