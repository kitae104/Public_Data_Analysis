{
 "cells": [
  {
   "cell_type": "markdown",
   "metadata": {},
   "source": [
    "- pip install pyautogui\n",
    "- pip install pyperclip"
   ]
  },
  {
   "cell_type": "code",
   "execution_count": 1,
   "metadata": {},
   "outputs": [
    {
     "name": "stdout",
     "output_type": "stream",
     "text": [
      "Point(x=1709, y=472)\n",
      "Size(width=3440, height=1440)\n"
     ]
    }
   ],
   "source": [
    "import pyautogui\n",
    "\n",
    "position = pyautogui.position()\n",
    "print(position)\n",
    "\n",
    "print(pyautogui.size())"
   ]
  },
  {
   "cell_type": "code",
   "execution_count": 3,
   "metadata": {},
   "outputs": [],
   "source": [
    "pyautogui.moveTo(500,500)\n",
    "\n",
    "pyautogui.moveTo(100,100,2)"
   ]
  },
  {
   "cell_type": "code",
   "execution_count": 7,
   "metadata": {},
   "outputs": [],
   "source": [
    "import time\n",
    "\n",
    "pyautogui.click()\n",
    "time.sleep(1)\n",
    "pyautogui.click(clicks=2,interval=2)\n",
    "time.sleep(1)\n",
    "pyautogui.doubleClick()\n",
    "time.sleep(1)\n",
    "pyautogui.click(button=\"right\")\n",
    "time.sleep(1)"
   ]
  },
  {
   "cell_type": "code",
   "execution_count": 10,
   "metadata": {},
   "outputs": [],
   "source": [
    "pyautogui.scroll(-5000)\n",
    "\n",
    "pyautogui.scroll(5000)\n",
    "\n",
    "pyautogui.drag(100,100,1,button=\"left\")"
   ]
  },
  {
   "cell_type": "code",
   "execution_count": 2,
   "metadata": {},
   "outputs": [],
   "source": [
    "import pyautogui\n",
    "\n",
    "pyautogui.write(\"hello world!\")\n",
    "\n",
    "pyautogui.write(\"hello world!\",interval=0.25)"
   ]
  },
  {
   "cell_type": "code",
   "execution_count": 3,
   "metadata": {},
   "outputs": [],
   "source": [
    "import pyautogui\n",
    "import pyperclip\n",
    "\n",
    "pyperclip.copy(\"안녕! 파이썬!\")\n",
    "\n",
    "pyautogui.hotkey(\"ctrl\",\"v\") "
   ]
  }
 ],
 "metadata": {
  "kernelspec": {
   "display_name": "Python 3",
   "language": "python",
   "name": "python3"
  },
  "language_info": {
   "codemirror_mode": {
    "name": "ipython",
    "version": 3
   },
   "file_extension": ".py",
   "mimetype": "text/x-python",
   "name": "python",
   "nbconvert_exporter": "python",
   "pygments_lexer": "ipython3",
   "version": "3.11.6"
  }
 },
 "nbformat": 4,
 "nbformat_minor": 2
}
